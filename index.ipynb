{
 "cells": [
  {
   "cell_type": "markdown",
   "metadata": {},
   "source": [
    "# SQL Subqueries - Lab\n",
    "\n",
    "## Introduction\n",
    "\n",
    "Now that you've seen how subqueries work, it's time to get some practice writing them! Not all of the queries will require subqueries, but all will be a bit more complex and require some thought and review about aggregates, grouping, ordering, filtering, joins and subqueries. Good luck!  \n",
    "\n",
    "## Objectives\n",
    "\n",
    "You will be able to:\n",
    "\n",
    "* Write subqueries to decompose complex queries\n",
    "\n",
    "## CRM Database ERD\n",
    "\n",
    "Once again, here's the schema for the CRM database you'll continue to practice with.\n",
    "\n",
    "<img src=\"https://curriculum-content.s3.amazonaws.com/data-science/images/Database-Schema.png\" width=\"600\">\n",
    "\n",
    "## Connect to the Database\n",
    "\n",
    "As usual, start by importing the necessary packages and connecting to the database `data.sqlite`."
   ]
  },
  {
   "cell_type": "code",
   "execution_count": 2,
   "metadata": {},
   "outputs": [],
   "source": [
    "# Your code here; import the necessary packages\n",
    "\n",
    "import sqlite3\n",
    "import pandas as pd"
   ]
  },
  {
   "cell_type": "code",
   "execution_count": 3,
   "metadata": {},
   "outputs": [],
   "source": [
    "# Your code here; create the connection\n",
    "\n",
    "conn = sqlite3.connect(\"data.sqlite\")\n",
    "cur = conn.cursor()"
   ]
  },
  {
   "cell_type": "markdown",
   "metadata": {},
   "source": [
    "## Write an Equivalent Query using a Subquery\n",
    "\n",
    "The following query works using a `JOIN`. Rewrite it so that it uses a subquery instead.\n",
    "\n",
    "```\n",
    "SELECT\n",
    "    customerNumber,\n",
    "    contactLastName,\n",
    "    contactFirstName\n",
    "FROM customers\n",
    "JOIN orders \n",
    "    USING(customerNumber)\n",
    "WHERE orderDate = '2003-01-31'\n",
    ";\n",
    "```"
   ]
  },
  {
   "cell_type": "code",
   "execution_count": 5,
   "metadata": {},
   "outputs": [
    {
     "name": "stdout",
     "output_type": "stream",
     "text": [
      "   customerNumber contactLastName contactFirstName\n",
      "0             141          Freyre           Diego \n"
     ]
    }
   ],
   "source": [
    "# Your code here\n",
    "\n",
    "query_1 = \"\"\"\n",
    "SELECT customerNumber, contactLastName, contactFirstName\n",
    "FROM customers\n",
    "WHERE customerNumber IN (\n",
    "    SELECT customerNumber \n",
    "    FROM orders \n",
    "    WHERE orderDate = '2003-01-31'\n",
    ");\n",
    "\"\"\"\n",
    "\n",
    "df = pd.read_sql_query(query_1, conn)\n",
    "print(df)"
   ]
  },
  {
   "cell_type": "markdown",
   "metadata": {},
   "source": [
    "## Select the Total Number of Orders for Each Product Name\n",
    "\n",
    "Sort the results by the total number of items sold for that product."
   ]
  },
  {
   "cell_type": "code",
   "execution_count": 7,
   "metadata": {},
   "outputs": [
    {
     "name": "stdout",
     "output_type": "stream",
     "text": [
      "                                 productName  total_items_sold\n",
      "0                1992 Ferrari 360 Spider red              1808\n",
      "1                       1937 Lincoln Berline              1111\n",
      "2                  American Airlines: MD-11S              1085\n",
      "3    1941 Chevrolet Special Deluxe Cabriolet              1076\n",
      "4               1930 Buick Marquette Phaeton              1074\n",
      "..                                       ...               ...\n",
      "104             1999 Indy 500 Monte Carlo SS               855\n",
      "105                       1911 Ford Town Car               832\n",
      "106         1936 Mercedes Benz 500k Roadster               824\n",
      "107               1970 Chevy Chevelle SS 454               803\n",
      "108                    1957 Ford Thunderbird               767\n",
      "\n",
      "[109 rows x 2 columns]\n"
     ]
    }
   ],
   "source": [
    "# Your code here\n",
    "\n",
    "query_2 = \"\"\"\n",
    "SELECT \n",
    "    p.productName, \n",
    "    SUM(od.quantityOrdered) AS total_items_sold\n",
    "FROM orderdetails od\n",
    "JOIN products p \n",
    "    ON od.productCode = p.productCode\n",
    "GROUP BY p.productName\n",
    "ORDER BY total_items_sold DESC;\n",
    "\"\"\"\n",
    "\n",
    "df = pd.read_sql_query(query_2, conn)\n",
    "print(df)"
   ]
  },
  {
   "cell_type": "markdown",
   "metadata": {},
   "source": [
    "## Select the Product Name and the  Total Number of People Who Have Ordered Each Product\n",
    "\n",
    "Sort the results in descending order."
   ]
  },
  {
   "cell_type": "markdown",
   "metadata": {},
   "source": [
    "### A quick note on the SQL  `SELECT DISTINCT` statement:"
   ]
  },
  {
   "cell_type": "markdown",
   "metadata": {},
   "source": [
    "The `SELECT DISTINCT` statement is used to return only distinct values in the specified column. In other words, it removes the duplicate values in the column from the result set.\n",
    "\n",
    "Inside a table, a column often contains many duplicate values; and sometimes you only want to list the unique values. If you apply the `DISTINCT` clause to a column that has `NULL`, the `DISTINCT` clause will keep only one NULL and eliminates the other. In other words, the DISTINCT clause treats all `NULL` “values” as the same value."
   ]
  },
  {
   "cell_type": "code",
   "execution_count": 11,
   "metadata": {},
   "outputs": [
    {
     "name": "stdout",
     "output_type": "stream",
     "text": [
      "                             productName  total_customers\n",
      "0            1992 Ferrari 360 Spider red               40\n",
      "1                       Boeing X-32A JSF               27\n",
      "2                    1972 Alfa Romeo GTA               27\n",
      "3               1952 Alpine Renault 1300               27\n",
      "4                     1934 Ford V8 Coupe               27\n",
      "..                                   ...              ...\n",
      "104  1958 Chevy Corvette Limited Edition               19\n",
      "105                  2002 Chevy Corvette               18\n",
      "106            1969 Chevrolet Camaro Z28               18\n",
      "107                    1952 Citroen-15CV               18\n",
      "108                   1949 Jaguar XK 120               18\n",
      "\n",
      "[109 rows x 2 columns]\n"
     ]
    }
   ],
   "source": [
    "# Your code here\n",
    "# Hint: because one of the tables we'll be joining has duplicate customer numbers, you should use DISTINCT\n",
    "\n",
    "query_3= \"\"\"\n",
    "SELECT \n",
    "    p.productName, \n",
    "    COUNT(DISTINCT o.customerNumber) AS total_customers\n",
    "FROM orderdetails od\n",
    "JOIN orders o \n",
    "    ON od.orderNumber = o.orderNumber\n",
    "JOIN products p \n",
    "    ON od.productCode = p.productCode\n",
    "GROUP BY p.productName\n",
    "ORDER BY total_customers DESC;\n",
    "\"\"\"\n",
    "\n",
    "df = pd.read_sql_query(query_3, conn)\n",
    "print(df)"
   ]
  },
  {
   "cell_type": "markdown",
   "metadata": {},
   "source": [
    "## Select the Employee Number, First Name, Last Name, City (of the office), and Office Code of the Employees Who Sold Products That Have Been Ordered by Fewer Than 20 people.\n",
    "\n",
    "This problem is a bit tougher. To start, think about how you might break the problem up. Be sure that your results only list each employee once."
   ]
  },
  {
   "cell_type": "code",
   "execution_count": 13,
   "metadata": {},
   "outputs": [
    {
     "name": "stdout",
     "output_type": "stream",
     "text": [
      "    employeeNumber firstName   lastName           city  officeCode\n",
      "0             1166    Leslie   Thompson  San Francisco           1\n",
      "1             1370    Gerard  Hernandez          Paris           4\n",
      "2             1165    Leslie   Jennings  San Francisco           1\n",
      "3             1323    George     Vanauf            NYC           3\n",
      "4             1337      Loui     Bondur          Paris           4\n",
      "5             1621      Mami      Nishi          Tokyo           5\n",
      "6             1286  Foon Yue      Tseng            NYC           3\n",
      "7             1216     Steve  Patterson         Boston           2\n",
      "8             1612     Peter      Marsh         Sydney           6\n",
      "9             1501     Larry       Bott         London           7\n",
      "10            1401    Pamela   Castillo          Paris           4\n",
      "11            1611      Andy     Fixter         Sydney           6\n",
      "12            1504     Barry      Jones         London           7\n",
      "13            1702    Martin     Gerard          Paris           4\n",
      "14            1188     Julie   Firrelli         Boston           2\n"
     ]
    }
   ],
   "source": [
    "# Your code here\n",
    "\n",
    "query_4 = \"\"\"\n",
    "SELECT DISTINCT e.employeeNumber, e.firstName, e.lastName, o.city, o.officeCode\n",
    "FROM employees e\n",
    "JOIN offices o \n",
    "    ON e.officeCode = o.officeCode\n",
    "JOIN customers c \n",
    "    ON e.employeeNumber = c.salesRepEmployeeNumber\n",
    "JOIN orders od \n",
    "    ON c.customerNumber = od.customerNumber\n",
    "WHERE c.customerNumber IN (\n",
    "    SELECT customerNumber\n",
    "    FROM orders\n",
    "    WHERE orderNumber IN (\n",
    "        SELECT orderNumber\n",
    "        FROM orderdetails\n",
    "        WHERE productCode IN (\n",
    "            SELECT productCode\n",
    "            FROM (\n",
    "                SELECT productCode, COUNT(DISTINCT customerNumber) AS customer_count\n",
    "                FROM orderdetails\n",
    "                JOIN orders ON orderdetails.orderNumber = orders.orderNumber\n",
    "                GROUP BY productCode\n",
    "                HAVING customer_count < 20\n",
    "            )\n",
    "        )\n",
    "    )\n",
    ");\n",
    "\"\"\"\n",
    "\n",
    "df = pd.read_sql_query(query_4, conn)\n",
    "print(df)"
   ]
  },
  {
   "cell_type": "markdown",
   "metadata": {},
   "source": [
    "## Select the Employee Number, First Name, Last Name, and Number of Customers for Employees Whose Customers Have an Average Credit Limit Over 15K"
   ]
  },
  {
   "cell_type": "code",
   "execution_count": 15,
   "metadata": {},
   "outputs": [
    {
     "name": "stdout",
     "output_type": "stream",
     "text": [
      "    employeeNumber firstName   lastName  num_customers\n",
      "0             1165    Leslie   Jennings              6\n",
      "1             1166    Leslie   Thompson              6\n",
      "2             1188     Julie   Firrelli              6\n",
      "3             1216     Steve  Patterson              6\n",
      "4             1286  Foon Yue      Tseng              7\n",
      "5             1323    George     Vanauf              8\n",
      "6             1337      Loui     Bondur              6\n",
      "7             1370    Gerard  Hernandez              7\n",
      "8             1401    Pamela   Castillo             10\n",
      "9             1501     Larry       Bott              8\n",
      "10            1504     Barry      Jones              9\n",
      "11            1611      Andy     Fixter              5\n",
      "12            1612     Peter      Marsh              5\n",
      "13            1621      Mami      Nishi              5\n",
      "14            1702    Martin     Gerard              6\n"
     ]
    }
   ],
   "source": [
    "# Your code here\n",
    "\n",
    "query_5 = \"\"\"\n",
    "SELECT \n",
    "    e.employeeNumber, \n",
    "    e.firstName, \n",
    "    e.lastName, \n",
    "    COUNT(c.customerNumber) AS num_customers\n",
    "FROM employees e\n",
    "JOIN customers c \n",
    "    ON e.employeeNumber = c.salesRepEmployeeNumber\n",
    "WHERE e.employeeNumber IN (\n",
    "    SELECT salesRepEmployeeNumber\n",
    "    FROM customers\n",
    "    GROUP BY salesRepEmployeeNumber\n",
    "    HAVING AVG(creditLimit) > 15000\n",
    ")\n",
    "GROUP BY e.employeeNumber, e.firstName, e.lastName;\n",
    "\"\"\"\n",
    "\n",
    "df = pd.read_sql_query(query_5, conn)\n",
    "print(df)"
   ]
  },
  {
   "cell_type": "markdown",
   "metadata": {},
   "source": [
    "## Summary\n",
    "\n",
    "In this lesson, you got to practice some more complex SQL queries, some of which required subqueries. There's still plenty more SQL to be had though; hope you've been enjoying some of these puzzles!"
   ]
  }
 ],
 "metadata": {
  "kernelspec": {
   "display_name": "Python [conda env:base] *",
   "language": "python",
   "name": "conda-base-py"
  },
  "language_info": {
   "codemirror_mode": {
    "name": "ipython",
    "version": 3
   },
   "file_extension": ".py",
   "mimetype": "text/x-python",
   "name": "python",
   "nbconvert_exporter": "python",
   "pygments_lexer": "ipython3",
   "version": "3.12.3"
  },
  "toc": {
   "base_numbering": 1,
   "nav_menu": {},
   "number_sections": true,
   "sideBar": true,
   "skip_h1_title": false,
   "title_cell": "Table of Contents",
   "title_sidebar": "Contents",
   "toc_cell": false,
   "toc_position": {},
   "toc_section_display": true,
   "toc_window_display": false
  }
 },
 "nbformat": 4,
 "nbformat_minor": 4
}
